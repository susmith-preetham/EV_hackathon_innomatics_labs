{
 "cells": [
  {
   "cell_type": "markdown",
   "id": "e6721883",
   "metadata": {},
   "source": [
    "# Data Analysis on Electric Vehicle"
   ]
  },
  {
   "cell_type": "markdown",
   "id": "ec6faa4c",
   "metadata": {},
   "source": [
    "#### Importing Necessary Libraries"
   ]
  },
  {
   "cell_type": "code",
   "execution_count": null,
   "id": "2b4a46ac",
   "metadata": {},
   "outputs": [],
   "source": [
    "import numpy as np\n",
    "import pandas as pd\n",
    "import plotly.express as px"
   ]
  },
  {
   "cell_type": "markdown",
   "id": "b94954ef",
   "metadata": {},
   "source": [
    "#### Reading DataFrame"
   ]
  },
  {
   "cell_type": "code",
   "execution_count": null,
   "id": "aaeec69f",
   "metadata": {},
   "outputs": [],
   "source": [
    "df = pd.read_csv(\"dataset.csv\")"
   ]
  },
  {
   "cell_type": "code",
   "execution_count": null,
   "id": "7b6808cd",
   "metadata": {},
   "outputs": [],
   "source": [
    "df.head()"
   ]
  },
  {
   "cell_type": "code",
   "execution_count": null,
   "id": "d9ee37de",
   "metadata": {},
   "outputs": [],
   "source": [
    "df.shape"
   ]
  },
  {
   "cell_type": "code",
   "execution_count": null,
   "id": "ac242445",
   "metadata": {},
   "outputs": [],
   "source": [
    "df.info()"
   ]
  },
  {
   "cell_type": "markdown",
   "id": "d7f6db16",
   "metadata": {},
   "source": [
    "## Data Cleaning"
   ]
  },
  {
   "cell_type": "code",
   "execution_count": null,
   "id": "0127b19b",
   "metadata": {},
   "outputs": [],
   "source": [
    "df.isna().sum()"
   ]
  },
  {
   "cell_type": "markdown",
   "id": "0f2b4177",
   "metadata": {},
   "source": [
    "### Checking for Duplicated Values"
   ]
  },
  {
   "cell_type": "code",
   "execution_count": null,
   "id": "370d6a8d",
   "metadata": {},
   "outputs": [],
   "source": [
    "df.duplicated().sum()"
   ]
  },
  {
   "cell_type": "code",
   "execution_count": null,
   "id": "f155ab41",
   "metadata": {},
   "outputs": [],
   "source": [
    "df[\"VIN (1-10)\"].value_counts()"
   ]
  },
  {
   "cell_type": "code",
   "execution_count": null,
   "id": "3f8c9cc0",
   "metadata": {},
   "outputs": [],
   "source": [
    "df[\"County\"].value_counts()"
   ]
  },
  {
   "cell_type": "code",
   "execution_count": null,
   "id": "d307d9c6",
   "metadata": {},
   "outputs": [],
   "source": [
    "df[\"City\"].value_counts()"
   ]
  },
  {
   "cell_type": "code",
   "execution_count": null,
   "id": "792c36e7",
   "metadata": {},
   "outputs": [],
   "source": [
    "df[\"Postal Code\"].value_counts()"
   ]
  },
  {
   "cell_type": "code",
   "execution_count": null,
   "id": "c104ed5a",
   "metadata": {},
   "outputs": [],
   "source": [
    "df[\"Model\"].value_counts()"
   ]
  },
  {
   "cell_type": "code",
   "execution_count": null,
   "id": "ef0aecf6",
   "metadata": {},
   "outputs": [],
   "source": [
    "df[\"Make\"].value_counts()"
   ]
  },
  {
   "cell_type": "markdown",
   "id": "4af67883",
   "metadata": {},
   "source": [
    "### Filling Null Values in Model Column with Mode of Make w.r.t Model"
   ]
  },
  {
   "cell_type": "code",
   "execution_count": null,
   "id": "25d30b4b",
   "metadata": {},
   "outputs": [],
   "source": [
    "df[\"Model\"].isna().sum()"
   ]
  },
  {
   "cell_type": "code",
   "execution_count": null,
   "id": "0b26c28b",
   "metadata": {},
   "outputs": [],
   "source": [
    "df[df[\"VIN (1-10)\"]==\"YV4ED3GM7P\"]"
   ]
  },
  {
   "cell_type": "code",
   "execution_count": null,
   "id": "3cf8f6bb",
   "metadata": {},
   "outputs": [],
   "source": [
    "df.loc[(df[\"Make\"]==\"VOLVO\")&(df[\"Model Year\"]==2023)]"
   ]
  },
  {
   "cell_type": "code",
   "execution_count": null,
   "id": "68b522c9",
   "metadata": {},
   "outputs": [],
   "source": [
    "df[\"Model\"] = df[\"Model\"].apply(lambda x : df[df[\"Make\"]==\"VOLVO\"].mode() if x is np.nan else x)"
   ]
  },
  {
   "cell_type": "code",
   "execution_count": null,
   "id": "4df79594",
   "metadata": {},
   "outputs": [],
   "source": [
    "df[\"Model\"].isna().sum()"
   ]
  },
  {
   "cell_type": "markdown",
   "id": "48c35423",
   "metadata": {},
   "source": [
    "### Checking Null Values in Legislative District"
   ]
  },
  {
   "cell_type": "code",
   "execution_count": null,
   "id": "f2f9fe59",
   "metadata": {},
   "outputs": [],
   "source": [
    "df[\"Legislative District\"].isna().sum()"
   ]
  },
  {
   "cell_type": "code",
   "execution_count": null,
   "id": "bdc1ff77",
   "metadata": {},
   "outputs": [],
   "source": [
    "df[\"Legislative District\"].value_counts()"
   ]
  },
  {
   "cell_type": "code",
   "execution_count": null,
   "id": "ee37a8f3",
   "metadata": {},
   "outputs": [],
   "source": [
    "df[df[\"State\"]==\"FL\"]"
   ]
  },
  {
   "cell_type": "markdown",
   "id": "5f6e315a",
   "metadata": {},
   "source": [
    "* As Legislative District is related to District Code and from above it is seen than Legislative District code for FL is all Null values so dropping them"
   ]
  },
  {
   "cell_type": "code",
   "execution_count": null,
   "id": "98635d58",
   "metadata": {},
   "outputs": [],
   "source": [
    "df.dropna(subset=\"Legislative District\",axis=0,inplace=True)"
   ]
  },
  {
   "cell_type": "code",
   "execution_count": null,
   "id": "32910371",
   "metadata": {},
   "outputs": [],
   "source": [
    "df[\"Legislative District\"].isna().sum()"
   ]
  },
  {
   "cell_type": "markdown",
   "id": "1b122818",
   "metadata": {},
   "source": [
    "### Checking Null Values in Vehicle Location"
   ]
  },
  {
   "cell_type": "code",
   "execution_count": null,
   "id": "cbe5a2de",
   "metadata": {},
   "outputs": [],
   "source": [
    "df[\"Vehicle Location\"].isna().sum()"
   ]
  },
  {
   "cell_type": "code",
   "execution_count": null,
   "id": "d72b5ef1",
   "metadata": {},
   "outputs": [],
   "source": [
    "df.dropna(subset=\"Vehicle Location\",axis=0,inplace=True)"
   ]
  },
  {
   "cell_type": "code",
   "execution_count": null,
   "id": "19b877df",
   "metadata": {},
   "outputs": [],
   "source": [
    "df[\"Vehicle Location\"].isna().sum()"
   ]
  },
  {
   "cell_type": "markdown",
   "id": "191ad0fe",
   "metadata": {},
   "source": [
    "### Checking Null Values in Electric Utility"
   ]
  },
  {
   "cell_type": "code",
   "execution_count": null,
   "id": "a874e612",
   "metadata": {},
   "outputs": [],
   "source": [
    "df[\"Electric Utility\"].isna().sum()"
   ]
  },
  {
   "cell_type": "code",
   "execution_count": null,
   "id": "0d6181ec",
   "metadata": {},
   "outputs": [],
   "source": [
    "df[\"Electric Utility\"].value_counts()"
   ]
  },
  {
   "cell_type": "code",
   "execution_count": null,
   "id": "f82cefe0",
   "metadata": {},
   "outputs": [],
   "source": [
    "df1 = df[[\"Make\",\"Model\",\"Electric Vehicle Type\",\"Electric Utility\"]]\n",
    "df1"
   ]
  },
  {
   "cell_type": "code",
   "execution_count": null,
   "id": "c785ce57",
   "metadata": {},
   "outputs": [],
   "source": [
    "df.loc[df[\"State\"]==\"FL\"]"
   ]
  },
  {
   "cell_type": "code",
   "execution_count": null,
   "id": "c5e1f213",
   "metadata": {},
   "outputs": [],
   "source": [
    "df.loc[df[\"County\"]==\"Monroe\"]"
   ]
  },
  {
   "cell_type": "code",
   "execution_count": null,
   "id": "38c9db42",
   "metadata": {},
   "outputs": [],
   "source": [
    "df.dropna(subset=\"Electric Utility\",axis=0,inplace=True)"
   ]
  },
  {
   "cell_type": "code",
   "execution_count": null,
   "id": "a7fe7989",
   "metadata": {},
   "outputs": [],
   "source": [
    "df[\"Electric Utility\"].isna().sum()"
   ]
  },
  {
   "cell_type": "markdown",
   "id": "bda23c7d",
   "metadata": {},
   "source": [
    "* As Base MSRP most of them are 0 so dropping the column"
   ]
  },
  {
   "cell_type": "code",
   "execution_count": null,
   "id": "3ecd3475",
   "metadata": {},
   "outputs": [],
   "source": [
    "df.drop([\"Base MSRP\"],axis=1,inplace=True)"
   ]
  },
  {
   "cell_type": "code",
   "execution_count": null,
   "id": "8268447f",
   "metadata": {},
   "outputs": [],
   "source": [
    "df.isna().sum()"
   ]
  },
  {
   "cell_type": "markdown",
   "id": "43eba350",
   "metadata": {},
   "source": [
    "### Exporting cleaned data"
   ]
  },
  {
   "cell_type": "code",
   "execution_count": null,
   "id": "88032093",
   "metadata": {},
   "outputs": [],
   "source": [
    "df.to_csv(\"Cleaned_EV_data.csv\")"
   ]
  },
  {
   "cell_type": "markdown",
   "id": "6a21334b",
   "metadata": {},
   "source": [
    "# EDA"
   ]
  },
  {
   "cell_type": "markdown",
   "id": "af2ada99",
   "metadata": {},
   "source": [
    "- Reading cleaned data"
   ]
  },
  {
   "cell_type": "code",
   "execution_count": null,
   "id": "68052d42",
   "metadata": {},
   "outputs": [],
   "source": [
    "df = pd.read_csv(\"Cleaned_EV_data.csv\")"
   ]
  },
  {
   "cell_type": "code",
   "execution_count": null,
   "id": "a589a432",
   "metadata": {},
   "outputs": [],
   "source": [
    "df.head()"
   ]
  },
  {
   "cell_type": "markdown",
   "id": "36d78447",
   "metadata": {},
   "source": [
    "## Univariate"
   ]
  },
  {
   "cell_type": "markdown",
   "id": "5907cc37",
   "metadata": {},
   "source": [
    "### County Count w.r.t vehicles "
   ]
  },
  {
   "cell_type": "code",
   "execution_count": null,
   "id": "6ade5bfe",
   "metadata": {},
   "outputs": [],
   "source": [
    "df_county=df[\"County\"].value_counts().reset_index().head(10)\n",
    "df_county"
   ]
  },
  {
   "cell_type": "code",
   "execution_count": null,
   "id": "1df7cfea",
   "metadata": {},
   "outputs": [],
   "source": [
    "fig = px.pie(df_county,values='count', names='County', title='EV count Vs County')\n",
    "fig.show()"
   ]
  },
  {
   "cell_type": "markdown",
   "id": "c78202c0",
   "metadata": {},
   "source": [
    "- The above Pie chart shows the top 10 county which have more EV's\n",
    "- It is seen that King county has around 57% of total data followed by Snohomish with 12.% and remaining are less than 10%"
   ]
  },
  {
   "cell_type": "markdown",
   "id": "373b1495",
   "metadata": {},
   "source": [
    "### Vehicle count w.r.t City"
   ]
  },
  {
   "cell_type": "code",
   "execution_count": null,
   "id": "1ccfdbbf",
   "metadata": {},
   "outputs": [],
   "source": [
    "df_city=df[\"City\"].value_counts().reset_index().head(10)\n",
    "df_city"
   ]
  },
  {
   "cell_type": "code",
   "execution_count": null,
   "id": "730b2119",
   "metadata": {},
   "outputs": [],
   "source": [
    "fig = px.bar(df_city,x='City',y='count',title='EV count Vs City')\n",
    "fig.show()"
   ]
  },
  {
   "cell_type": "markdown",
   "id": "736b1060",
   "metadata": {},
   "source": [
    "- The above Bar plot shows the top 10 Cities which have more EV's.\n",
    "- Form the above bar plot it is seen that Seattle City has around 20,000 vehicles, next top city is Bellevue with vehicles around 6,000."
   ]
  },
  {
   "cell_type": "markdown",
   "id": "e56fb900",
   "metadata": {},
   "source": [
    "### Vehicle count w.r.t Make"
   ]
  },
  {
   "cell_type": "code",
   "execution_count": null,
   "id": "169e45c6",
   "metadata": {},
   "outputs": [],
   "source": [
    "df_make=df[\"Make\"].value_counts().reset_index().head(20)\n",
    "df_make"
   ]
  },
  {
   "cell_type": "code",
   "execution_count": null,
   "id": "b7d55fdb",
   "metadata": {},
   "outputs": [],
   "source": [
    "fig = px.bar(df_make,x='Make',y='count',title='Top 20 Brands')\n",
    "fig.show()"
   ]
  },
  {
   "cell_type": "markdown",
   "id": "c0568fec",
   "metadata": {},
   "source": [
    "- From the above bar plot it is seen that most vehicles sold in Washington State are from Tesla Brand with more than 50,000 vehicles.\n",
    "- Next top brands are Nissan and Chevrolet with around 10,000."
   ]
  },
  {
   "cell_type": "markdown",
   "id": "ff416084",
   "metadata": {},
   "source": [
    "### Model vs Count"
   ]
  },
  {
   "cell_type": "code",
   "execution_count": null,
   "id": "0bb7910d",
   "metadata": {},
   "outputs": [],
   "source": [
    "df_model=df[\"Model\"].value_counts().reset_index().head(10)\n",
    "df_model"
   ]
  },
  {
   "cell_type": "code",
   "execution_count": null,
   "id": "90c9aaad",
   "metadata": {},
   "outputs": [],
   "source": [
    "fig = px.pie(df_model,values='count', names='Model', title='Top 10 EV models')\n",
    "fig.show()"
   ]
  },
  {
   "cell_type": "markdown",
   "id": "ef9bdcda",
   "metadata": {},
   "source": [
    "- The above Pie Chart shows the top 10 EV models present in Washington State.\n",
    "- Modle 3 and Model Y are most sold vehicles in Washington with count of 23,000 and 17,000.\n",
    "- LEAF is next top sold vehicle after Model 3 and Model Y with count of 12,800."
   ]
  },
  {
   "cell_type": "markdown",
   "id": "d164fc81",
   "metadata": {},
   "source": [
    "### Electric Vehicle Type count"
   ]
  },
  {
   "cell_type": "code",
   "execution_count": null,
   "id": "7fc31748",
   "metadata": {},
   "outputs": [],
   "source": [
    "df_type=df[\"Electric Vehicle Type\"].value_counts().reset_index()\n",
    "df_type"
   ]
  },
  {
   "cell_type": "code",
   "execution_count": null,
   "id": "b8859bd1",
   "metadata": {},
   "outputs": [],
   "source": [
    "fig = px.bar(df_type,x='Electric Vehicle Type',y='count',title='Electric Vehicle Type Count',color=\"Electric Vehicle Type\")\n",
    "fig.show()"
   ]
  },
  {
   "cell_type": "markdown",
   "id": "e88df51e",
   "metadata": {},
   "source": [
    "### Year Vs Count"
   ]
  },
  {
   "cell_type": "code",
   "execution_count": null,
   "id": "70487bc6",
   "metadata": {},
   "outputs": [],
   "source": [
    "df_year=df[\"Model Year\"].value_counts().reset_index()\n",
    "df_year"
   ]
  },
  {
   "cell_type": "code",
   "execution_count": null,
   "id": "125e3c3c",
   "metadata": {},
   "outputs": [],
   "source": [
    "fig = px.bar(df_year,y='count',x='Model Year',title='Year wise EV count')\n",
    "fig.show()"
   ]
  },
  {
   "cell_type": "markdown",
   "id": "e35070c2",
   "metadata": {},
   "source": [
    "# Bivariate"
   ]
  },
  {
   "cell_type": "markdown",
   "id": "0f3ebbfa",
   "metadata": {},
   "source": [
    "### Make Vs Model"
   ]
  },
  {
   "cell_type": "code",
   "execution_count": null,
   "id": "e7c0b93f",
   "metadata": {},
   "outputs": [],
   "source": [
    "df_make_model = df.groupby([\"Make\",\"Model\"]).size().reset_index(name=\"count\")\n"
   ]
  },
  {
   "cell_type": "code",
   "execution_count": null,
   "id": "f85d5b0a",
   "metadata": {},
   "outputs": [],
   "source": [
    "df_make_model"
   ]
  },
  {
   "cell_type": "code",
   "execution_count": null,
   "id": "0570e3cd",
   "metadata": {},
   "outputs": [],
   "source": [
    "df_make_model.sort_values(by=\"count\",ascending=False,inplace=True)"
   ]
  },
  {
   "cell_type": "code",
   "execution_count": null,
   "id": "64e2d03a",
   "metadata": {},
   "outputs": [],
   "source": [
    "df_make_model=df_make_model.head(10)"
   ]
  },
  {
   "cell_type": "code",
   "execution_count": null,
   "id": "99f6166f",
   "metadata": {},
   "outputs": [],
   "source": [
    "df_make_model"
   ]
  },
  {
   "cell_type": "code",
   "execution_count": null,
   "id": "a885671a",
   "metadata": {},
   "outputs": [],
   "source": [
    "fig = px.bar(df_make_model, x=\"Make\", y=\"count\",color=\"Model\",barmode=\"group\",title=\"Make vs Model vs count\")\n",
    "fig.show()"
   ]
  },
  {
   "cell_type": "markdown",
   "id": "4e6b71e3",
   "metadata": {},
   "source": [
    "- From the above bar plot it is seen that Tesla brand has more Popularity in Washington when compared to other Brands.\n",
    "- And even in Tesla Brand Model 3 is more sold followed by Model Y."
   ]
  },
  {
   "cell_type": "markdown",
   "id": "2aaa95d6",
   "metadata": {},
   "source": [
    "### Make Vs Electric Range"
   ]
  },
  {
   "cell_type": "code",
   "execution_count": null,
   "id": "7d086642",
   "metadata": {},
   "outputs": [],
   "source": [
    "df_range=df.groupby([\"Make\"])[\"Electric Range\"].mean().reset_index()\n",
    "df_range"
   ]
  },
  {
   "cell_type": "code",
   "execution_count": null,
   "id": "6fa01286",
   "metadata": {},
   "outputs": [],
   "source": [
    "df_range=df_range.sort_values(by=\"Electric Range\",ascending=False)"
   ]
  },
  {
   "cell_type": "code",
   "execution_count": null,
   "id": "6b50e24a",
   "metadata": {},
   "outputs": [],
   "source": [
    "df_range=df_range.head(10)"
   ]
  },
  {
   "cell_type": "code",
   "execution_count": null,
   "id": "7ceb9f44",
   "metadata": {},
   "outputs": [],
   "source": [
    "df_range"
   ]
  },
  {
   "cell_type": "code",
   "execution_count": null,
   "id": "34de6419",
   "metadata": {},
   "outputs": [],
   "source": [
    "fig = px.bar(df_range, y=\"Make\", x=\"Electric Range\",color=\"Make\",title=\"Average Electric Range\")\n",
    "fig.show()"
   ]
  },
  {
   "cell_type": "markdown",
   "id": "d19fd01f",
   "metadata": {},
   "source": [
    "- From the above bar plot it is seen that average Electric Range of Jaguar is around 200 followed by Tesla With 118."
   ]
  },
  {
   "cell_type": "markdown",
   "id": "f47de8e6",
   "metadata": {},
   "source": [
    "### County VS Make"
   ]
  },
  {
   "cell_type": "code",
   "execution_count": null,
   "id": "88d7db99",
   "metadata": {},
   "outputs": [],
   "source": [
    "df_county_make1=df.groupby([\"County\",\"Make\"]).size().reset_index(name=\"count\")"
   ]
  },
  {
   "cell_type": "code",
   "execution_count": null,
   "id": "34d47aa6",
   "metadata": {},
   "outputs": [],
   "source": [
    "df_county_make1"
   ]
  },
  {
   "cell_type": "code",
   "execution_count": null,
   "id": "1b9aa6d8",
   "metadata": {},
   "outputs": [],
   "source": [
    "df_county_make1.sort_values(by=\"count\",inplace=True,ascending=False)"
   ]
  },
  {
   "cell_type": "code",
   "execution_count": null,
   "id": "7812dd9c",
   "metadata": {},
   "outputs": [],
   "source": [
    "df_county_make1 = df_county_make1.head(10)"
   ]
  },
  {
   "cell_type": "code",
   "execution_count": null,
   "id": "95dbb09c",
   "metadata": {},
   "outputs": [],
   "source": [
    "fig = px.bar(df_county_make1, x=\"County\", y=\"count\",color=\"Make\",barmode=\"group\",title=\"County Vs Make\")\n",
    "fig.show()"
   ]
  },
  {
   "cell_type": "markdown",
   "id": "064221ca",
   "metadata": {},
   "source": [
    "- From the above bar plot it is seen that King county has highest make with Tesla topping at 30k"
   ]
  },
  {
   "cell_type": "markdown",
   "id": "8d156d2d",
   "metadata": {},
   "source": [
    "### Make Vs Electric Vehicle Type"
   ]
  },
  {
   "cell_type": "code",
   "execution_count": null,
   "id": "ff47df38",
   "metadata": {},
   "outputs": [],
   "source": [
    "df_make_Electric_Vehicle_Type = df.groupby([\"Electric Vehicle Type\",\"Make\"]).size().reset_index(name=\"count\")"
   ]
  },
  {
   "cell_type": "code",
   "execution_count": null,
   "id": "85ff6528",
   "metadata": {},
   "outputs": [],
   "source": [
    "df_make_Electric_Vehicle_Type.sort_values(by=\"count\",ascending=False,inplace=True)"
   ]
  },
  {
   "cell_type": "code",
   "execution_count": null,
   "id": "5bd4634e",
   "metadata": {},
   "outputs": [],
   "source": [
    "fig = px.bar(df_make_Electric_Vehicle_Type.head(25), x=\"Make\", y=\"count\",color=\"Electric Vehicle Type\",title=\"Make Vs Electric_Vehicle_Type\")\n",
    "fig.show()"
   ]
  },
  {
   "cell_type": "markdown",
   "id": "86dd591e",
   "metadata": {},
   "source": [
    "- From the above Bar plot it is seen that Telsa has only BEV vehicles whereas Chevrolet, Kia, Ford, Audi, BMW, Volvo have both BEV and PHEV"
   ]
  },
  {
   "cell_type": "markdown",
   "id": "f5f6a5da",
   "metadata": {},
   "source": [
    "### City Vs Make"
   ]
  },
  {
   "cell_type": "code",
   "execution_count": null,
   "id": "74b20590",
   "metadata": {},
   "outputs": [],
   "source": [
    "df_city_make=df.groupby([\"City\",\"Make\"]).size().reset_index(name=\"count\")"
   ]
  },
  {
   "cell_type": "code",
   "execution_count": null,
   "id": "41c3895e",
   "metadata": {},
   "outputs": [],
   "source": [
    "df_city_make.sort_values(by=\"count\",ascending=False,inplace=True)"
   ]
  },
  {
   "cell_type": "code",
   "execution_count": null,
   "id": "81047d1a",
   "metadata": {},
   "outputs": [],
   "source": [
    "fig = px.bar(df_city_make.head(50), x=\"City\", y=\"count\",color=\"Make\",title=\"County Vs Make\")\n",
    "fig.show()"
   ]
  },
  {
   "cell_type": "markdown",
   "id": "99ac6db6",
   "metadata": {},
   "source": [
    "## Choropleth Plot of Washington"
   ]
  },
  {
   "cell_type": "code",
   "execution_count": null,
   "id": "c888f970",
   "metadata": {},
   "outputs": [],
   "source": [
    "df.groupby([\"Postal Code\"]).size().reset_index(name=\"EV count\")"
   ]
  },
  {
   "cell_type": "code",
   "execution_count": null,
   "id": "3a77532f",
   "metadata": {},
   "outputs": [],
   "source": [
    "df_city=df.groupby([\"City\"]).size().reset_index(name=\"EV count\")"
   ]
  },
  {
   "cell_type": "code",
   "execution_count": null,
   "id": "75a2ba17",
   "metadata": {},
   "outputs": [],
   "source": [
    "df_city"
   ]
  },
  {
   "cell_type": "code",
   "execution_count": null,
   "id": "2ef895e3",
   "metadata": {},
   "outputs": [],
   "source": [
    "import requests\n",
    "from urllib.request import urlopen\n",
    "import json\n",
    "with urlopen('https://raw.githubusercontent.com/OpenDataDE/State-zip-code-GeoJSON/master/wa_washington_zip_codes_geo.min.json') as response:\n",
    "    counties = json.load(response)"
   ]
  },
  {
   "cell_type": "code",
   "execution_count": null,
   "id": "ae747019",
   "metadata": {},
   "outputs": [],
   "source": [
    "Washington = json.load(open(\"wa_washington_zip_codes_geo.min.json\", \"r\"))"
   ]
  },
  {
   "cell_type": "code",
   "execution_count": null,
   "id": "6c788d8e",
   "metadata": {},
   "outputs": [],
   "source": [
    "df_choro = df.groupby([\"City\",\"Postal Code\"]).size().reset_index(name=\"EV count\")\n",
    "df_choro"
   ]
  },
  {
   "cell_type": "code",
   "execution_count": null,
   "id": "244961f5",
   "metadata": {},
   "outputs": [],
   "source": [
    "fig = px.choropleth_mapbox(\n",
    "    df_choro,\n",
    "    locations=\"Postal Code\",\n",
    "    featureidkey='properties.ZCTA5CE10',\n",
    "    geojson=counties,\n",
    "    color=\"EV count\",\n",
    "    hover_name=\"City\",\n",
    "    hover_data=[\"EV count\"],\n",
    "    title=\"Count of EV Vehicles\",\n",
    "    mapbox_style=\"carto-positron\",\n",
    "    center={\"lat\": 47.23166874361465, \"lon\": -119.85514005647997},\n",
    "    zoom=6,\n",
    "    opacity=0.5,\n",
    ")\n",
    "fig.show()"
   ]
  },
  {
   "cell_type": "markdown",
   "id": "991e8672",
   "metadata": {},
   "source": [
    "- The above Choropleth map shows the count of EV's present in Each City."
   ]
  },
  {
   "cell_type": "markdown",
   "id": "09b42925",
   "metadata": {},
   "source": [
    "# Bar chart Race"
   ]
  },
  {
   "cell_type": "code",
   "execution_count": null,
   "id": "39dc4b66",
   "metadata": {},
   "outputs": [],
   "source": [
    "#!pip install bar-chart-race"
   ]
  },
  {
   "cell_type": "code",
   "execution_count": null,
   "id": "1f6e7b1b",
   "metadata": {},
   "outputs": [],
   "source": [
    "import bar_chart_race as bcr"
   ]
  },
  {
   "cell_type": "code",
   "execution_count": null,
   "id": "0baf8a79",
   "metadata": {},
   "outputs": [],
   "source": [
    "df_make_count=df.groupby([\"Make\"]).size().reset_index(name=\"count\")"
   ]
  },
  {
   "cell_type": "code",
   "execution_count": null,
   "id": "7c16751e",
   "metadata": {},
   "outputs": [],
   "source": [
    "df_make_count.sort_values(by=\"count\",ascending=False,inplace=True)"
   ]
  },
  {
   "cell_type": "code",
   "execution_count": null,
   "id": "bdf7470d",
   "metadata": {},
   "outputs": [],
   "source": [
    "df_make_del = df_make_count.tail(15)"
   ]
  },
  {
   "cell_type": "code",
   "execution_count": null,
   "id": "0fcb3766",
   "metadata": {},
   "outputs": [],
   "source": [
    "names=df_make_del[\"Make\"].tolist()"
   ]
  },
  {
   "cell_type": "code",
   "execution_count": null,
   "id": "57496c2a",
   "metadata": {},
   "outputs": [],
   "source": [
    "df_bcr = pd.crosstab(index=df[\"Model Year\"],columns=df[\"Make\"])"
   ]
  },
  {
   "cell_type": "code",
   "execution_count": null,
   "id": "0ce59c5e",
   "metadata": {},
   "outputs": [],
   "source": [
    "df_bcr.drop(names,axis=1,inplace=True)"
   ]
  },
  {
   "cell_type": "code",
   "execution_count": null,
   "id": "d5549f60",
   "metadata": {},
   "outputs": [],
   "source": [
    "bcr.bar_chart_race(df_bcr,filename='EV_bar_chart_race.gif',n_bars=10,steps_per_period=5)"
   ]
  },
  {
   "cell_type": "markdown",
   "id": "03787270",
   "metadata": {},
   "source": [
    "![EV_gif](EV_bar_chart_race.gif)"
   ]
  },
  {
   "cell_type": "markdown",
   "id": "2c550b95",
   "metadata": {},
   "source": [
    "- The above racing bar chart shows the Evolution of EV's in different car brands and it is seen that Tesla crushed all other Brands as Years pass by."
   ]
  }
 ],
 "metadata": {
  "kernelspec": {
   "display_name": "Python 3 (ipykernel)",
   "language": "python",
   "name": "python3"
  },
  "language_info": {
   "codemirror_mode": {
    "name": "ipython",
    "version": 3
   },
   "file_extension": ".py",
   "mimetype": "text/x-python",
   "name": "python",
   "nbconvert_exporter": "python",
   "pygments_lexer": "ipython3",
   "version": "3.9.12"
  }
 },
 "nbformat": 4,
 "nbformat_minor": 5
}
